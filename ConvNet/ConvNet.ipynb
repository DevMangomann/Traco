{
 "cells": [
  {
   "cell_type": "code",
   "id": "initial_id",
   "metadata": {
    "collapsed": true,
    "ExecuteTime": {
     "end_time": "2025-05-12T16:04:08.257438Z",
     "start_time": "2025-05-12T16:04:07.312062Z"
    }
   },
   "source": [
    "import torch\n",
    "import torch.nn as nn\n",
    "\n",
    "# Zelle 2: Beispiel CNN-Modell\n",
    "class ConvNet(nn.Module):\n",
    "    def __init__(self):\n",
    "        super().__init__()\n",
    "        self.conv = nn.Sequential(\n",
    "            nn.Conv2d(3, 16, 3, padding=1),\n",
    "            nn.ReLU(),\n",
    "            nn.MaxPool2d(2),\n",
    "            nn.Conv2d(16, 32, 3, padding=1),\n",
    "            nn.ReLU(),\n",
    "            nn.MaxPool2d(2),\n",
    "            nn.Conv2d(32, 64, 3, padding=1),\n",
    "            nn.ReLU(),\n",
    "            nn.MaxPool2d(2),\n",
    "            nn.Conv2d(64, 128, 3, padding=1),\n",
    "            nn.ReLU(),\n",
    "            nn.MaxPool2d(2),\n",
    "            nn.Conv2d(128, 256, 3, padding=1),\n",
    "            nn.ReLU(),\n",
    "            nn.MaxPool2d(2),\n",
    "        )\n",
    "        self.fc = nn.Sequential(\n",
    "            nn.Flatten(),\n",
    "            nn.Linear(256*16*16, 128),\n",
    "            nn.ReLU(),\n",
    "            nn.Linear(128, 2)  # (x, y)-Position des Objekts\n",
    "        )\n",
    "\n",
    "    def forward(self, x):\n",
    "        return self.fc(self.conv(x))\n",
    "\n",
    "\n",
    "model = ConvNet()\n",
    "print(model)\n"
   ],
   "outputs": [
    {
     "name": "stdout",
     "output_type": "stream",
     "text": [
      "ConvNet(\n",
      "  (conv): Sequential(\n",
      "    (0): Conv2d(3, 16, kernel_size=(3, 3), stride=(1, 1), padding=(1, 1))\n",
      "    (1): ReLU()\n",
      "    (2): MaxPool2d(kernel_size=2, stride=2, padding=0, dilation=1, ceil_mode=False)\n",
      "    (3): Conv2d(16, 32, kernel_size=(3, 3), stride=(1, 1), padding=(1, 1))\n",
      "    (4): ReLU()\n",
      "    (5): MaxPool2d(kernel_size=2, stride=2, padding=0, dilation=1, ceil_mode=False)\n",
      "    (6): Conv2d(32, 64, kernel_size=(3, 3), stride=(1, 1), padding=(1, 1))\n",
      "    (7): ReLU()\n",
      "    (8): MaxPool2d(kernel_size=2, stride=2, padding=0, dilation=1, ceil_mode=False)\n",
      "    (9): Conv2d(64, 128, kernel_size=(3, 3), stride=(1, 1), padding=(1, 1))\n",
      "    (10): ReLU()\n",
      "    (11): MaxPool2d(kernel_size=2, stride=2, padding=0, dilation=1, ceil_mode=False)\n",
      "    (12): Conv2d(128, 256, kernel_size=(3, 3), stride=(1, 1), padding=(1, 1))\n",
      "    (13): ReLU()\n",
      "    (14): MaxPool2d(kernel_size=2, stride=2, padding=0, dilation=1, ceil_mode=False)\n",
      "  )\n",
      "  (fc): Sequential(\n",
      "    (0): Flatten(start_dim=1, end_dim=-1)\n",
      "    (1): Linear(in_features=65536, out_features=128, bias=True)\n",
      "    (2): ReLU()\n",
      "    (3): Linear(in_features=128, out_features=2, bias=True)\n",
      "  )\n",
      ")\n"
     ]
    }
   ],
   "execution_count": 1
  },
  {
   "metadata": {
    "ExecuteTime": {
     "end_time": "2025-05-12T16:07:00.151026Z",
     "start_time": "2025-05-12T16:07:00.142160Z"
    }
   },
   "cell_type": "code",
   "source": [
    "import cv2\n",
    "import torch\n",
    "import pandas as pd\n",
    "import numpy as np\n",
    "from torch.utils.data import Dataset\n",
    "from torchvision import transforms\n",
    "from PIL import Image\n",
    "import os\n",
    "\n",
    "class VideoTrackingDataset(Dataset):\n",
    "    def __init__(self, video_dir, label_dir, limit, resize=(512, 512), transform=None):\n",
    "        self.video_dir = video_dir\n",
    "        self.label_dir = label_dir\n",
    "        self.resize = resize\n",
    "        self.transform = transform or transforms.Compose([\n",
    "            transforms.Resize(resize),\n",
    "            transforms.ToTensor()\n",
    "        ])\n",
    "\n",
    "        self.samples = self._gather_samples()\n",
    "        if limit is not None:\n",
    "            self.samples = self.samples[:limit]\n",
    "\n",
    "    def _gather_samples(self):\n",
    "        samples = []\n",
    "        for file in os.listdir(self.video_dir):\n",
    "            if file.endswith(\".mp4\"):\n",
    "                base = file[:-4]\n",
    "                video_path = os.path.join(self.video_dir, file)\n",
    "                label_path = os.path.join(self.label_dir, f\"{base}.csv\")\n",
    "                if os.path.exists(label_path):\n",
    "                    samples.append((video_path, label_path))\n",
    "        return samples\n",
    "\n",
    "    def __len__(self):\n",
    "        return sum([self._count_frames(v) for v, _ in self.samples])\n",
    "\n",
    "    def _count_frames(self, video_path):\n",
    "        cap = cv2.VideoCapture(video_path)\n",
    "        count = int(cap.get(cv2.CAP_PROP_FRAME_COUNT))\n",
    "        cap.release()\n",
    "        return count\n",
    "\n",
    "    def __getitem__(self, index):\n",
    "        # Finde das passende Video + Frame\n",
    "        cumulative = 0\n",
    "        for video_path, label_path in self.samples:\n",
    "            num_frames = self._count_frames(video_path)\n",
    "            if index < cumulative + num_frames:\n",
    "                frame_idx = index - cumulative\n",
    "                return self._get_sample(video_path, label_path, frame_idx)\n",
    "            cumulative += num_frames\n",
    "        raise IndexError(\"Index außerhalb des Datasets\")\n",
    "\n",
    "    def _get_sample(self, video_path, label_path, frame_idx):\n",
    "        # Lade Frame mit OpenCV\n",
    "        cap = cv2.VideoCapture(video_path)\n",
    "        cap.set(cv2.CAP_PROP_POS_FRAMES, frame_idx)\n",
    "        ret, frame = cap.read()\n",
    "        cap.release()\n",
    "        if not ret:\n",
    "            raise ValueError(f\"Frame {frame_idx} konnte nicht gelesen werden.\")\n",
    "\n",
    "        frame = cv2.cvtColor(frame, cv2.COLOR_BGR2RGB)\n",
    "        image = Image.fromarray(frame)\n",
    "        original_width, original_height = image.size\n",
    "\n",
    "        # Lade Label\n",
    "        df = pd.read_csv(label_path)\n",
    "        frame_data = df[df['t'] == frame_idx]\n",
    "        num_bugs = frame_data['hexbug'].max() + 1  # oder fixe Anzahl, z.B. 3\n",
    "\n",
    "        # Defaultwerte mit 0 oder -1\n",
    "        coords = np.full((num_bugs, 2), -1.0, dtype=np.float32)\n",
    "\n",
    "        for _, row in frame_data.iterrows():\n",
    "            bug_id = int(row['hexbug'])\n",
    "            coords[bug_id, 0] = row['x'] / original_width\n",
    "            coords[bug_id, 1] = row['y'] / original_height\n",
    "\n",
    "        image = self.transform(image)\n",
    "        return image, torch.tensor(coords, dtype=torch.float32)\n"
   ],
   "id": "d07255e3ebf8e6e2",
   "outputs": [
    {
     "ename": "IndentationError",
     "evalue": "expected an indented block after 'if' statement on line 21 (3855890932.py, line 23)",
     "output_type": "error",
     "traceback": [
      "  \u001B[36mCell\u001B[39m\u001B[36m \u001B[39m\u001B[32mIn[6]\u001B[39m\u001B[32m, line 23\u001B[39m\n\u001B[31m    \u001B[39m\u001B[31mdef _gather_samples(self):\u001B[39m\n    ^\n\u001B[31mIndentationError\u001B[39m\u001B[31m:\u001B[39m expected an indented block after 'if' statement on line 21\n"
     ]
    }
   ],
   "execution_count": 6
  },
  {
   "metadata": {
    "ExecuteTime": {
     "end_time": "2025-05-12T16:04:11.546673Z",
     "start_time": "2025-05-12T16:04:09.192642Z"
    }
   },
   "cell_type": "code",
   "source": [
    "dataset = VideoTrackingDataset(\"../training\", \"../training\", limit=1)\n",
    "loader = torch.utils.data.DataLoader(dataset, batch_size=32, shuffle=True)\n",
    "\n"
   ],
   "id": "561c914ed259bca7",
   "outputs": [],
   "execution_count": 3
  },
  {
   "metadata": {
    "ExecuteTime": {
     "end_time": "2025-05-12T16:05:16.248731Z",
     "start_time": "2025-05-12T16:05:16.174064Z"
    }
   },
   "cell_type": "code",
   "source": [
    "from torch import optim\n",
    "\n",
    "# Zelle 4: Training\n",
    "device = torch.device(\"cuda\" if torch.cuda.is_available() else \"cpu\")\n",
    "model = ConvNet().to(device)\n",
    "\n",
    "optimizer = optim.Adam(model.parameters(), lr=0.001)\n",
    "criterion = nn.MSELoss()\n",
    "\n",
    "for epoch in range(1):\n",
    "    for imgs, labels in loader:\n",
    "        imgs, labels = imgs.to(device), labels.to(device)\n",
    "        preds = model(imgs)\n",
    "        loss = criterion(preds, labels)\n",
    "        optimizer.zero_grad()\n",
    "        loss.backward()\n",
    "        optimizer.step()\n",
    "    print(f\"Epoch {epoch+1}, Loss: {loss.item():.4f}\")\n"
   ],
   "id": "ba0ec4ab3fe6161c",
   "outputs": [
    {
     "ename": "TypeError",
     "evalue": "'DataLoader' object is not subscriptable",
     "output_type": "error",
     "traceback": [
      "\u001B[31m---------------------------------------------------------------------------\u001B[39m",
      "\u001B[31mTypeError\u001B[39m                                 Traceback (most recent call last)",
      "\u001B[36mCell\u001B[39m\u001B[36m \u001B[39m\u001B[32mIn[5]\u001B[39m\u001B[32m, line 11\u001B[39m\n\u001B[32m      8\u001B[39m criterion = nn.MSELoss()\n\u001B[32m     10\u001B[39m \u001B[38;5;28;01mfor\u001B[39;00m epoch \u001B[38;5;129;01min\u001B[39;00m \u001B[38;5;28mrange\u001B[39m(\u001B[32m1\u001B[39m):\n\u001B[32m---> \u001B[39m\u001B[32m11\u001B[39m     \u001B[38;5;28;01mfor\u001B[39;00m imgs, labels \u001B[38;5;129;01min\u001B[39;00m \u001B[43mloader\u001B[49m\u001B[43m[\u001B[49m\u001B[32;43m0\u001B[39;49m\u001B[43m]\u001B[49m:\n\u001B[32m     12\u001B[39m         imgs, labels = imgs.to(device), labels.to(device)\n\u001B[32m     13\u001B[39m         preds = model(imgs)\n",
      "\u001B[31mTypeError\u001B[39m: 'DataLoader' object is not subscriptable"
     ]
    }
   ],
   "execution_count": 5
  },
  {
   "metadata": {},
   "cell_type": "code",
   "outputs": [],
   "execution_count": null,
   "source": "torch.save(model, \"conv_net.pth\")",
   "id": "6eac08873320ff26"
  }
 ],
 "metadata": {
  "kernelspec": {
   "display_name": "Python 3",
   "language": "python",
   "name": "python3"
  },
  "language_info": {
   "codemirror_mode": {
    "name": "ipython",
    "version": 2
   },
   "file_extension": ".py",
   "mimetype": "text/x-python",
   "name": "python",
   "nbconvert_exporter": "python",
   "pygments_lexer": "ipython2",
   "version": "2.7.6"
  }
 },
 "nbformat": 4,
 "nbformat_minor": 5
}
